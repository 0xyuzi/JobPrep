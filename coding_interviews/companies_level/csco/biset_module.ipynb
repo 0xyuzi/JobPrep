{
 "metadata": {
  "language_info": {
   "codemirror_mode": {
    "name": "ipython",
    "version": 3
   },
   "file_extension": ".py",
   "mimetype": "text/x-python",
   "name": "python",
   "nbconvert_exporter": "python",
   "pygments_lexer": "ipython3",
   "version": "3.7.6-final"
  },
  "orig_nbformat": 2,
  "kernelspec": {
   "name": "python3",
   "display_name": "Python 3",
   "language": "python"
  }
 },
 "nbformat": 4,
 "nbformat_minor": 2,
 "cells": [
  {
   "source": [
    "- The `bisect.bisect(list, num)` choose the index on the left number <= num in sorted array\n",
    "- When list of list, it is ok to use `bisect.bisect[list[list], [num]]`. If this case, the num is the first lement of the list to compared, and another default set is 0 "
   ],
   "cell_type": "markdown",
   "metadata": {}
  },
  {
   "cell_type": "code",
   "execution_count": 39,
   "metadata": {},
   "outputs": [
    {
     "output_type": "stream",
     "name": "stdout",
     "text": [
      "4\n3\n3\n2\n2\n3\n"
     ]
    }
   ],
   "source": [
    "import bisect\n",
    "test_array = [[1,2],[3,4],[5,6],[5,7000],[7,8],[9,10]]\n",
    "print(bisect.bisect(test_array,[5,10000]))\n",
    "print(bisect.bisect(test_array,[5,1000]))\n",
    "print(bisect.bisect(test_array,[5,6]))\n",
    "print(bisect.bisect(test_array,[5,0]))\n",
    "print(bisect.bisect(test_array,[5]))\n",
    "# the last one choose the largest second element when first elemenet is 5 -> [5, 7000]\n",
    "print(bisect.bisect(test_array,[5+1])-1)"
   ]
  },
  {
   "cell_type": "code",
   "execution_count": 40,
   "metadata": {},
   "outputs": [],
   "source": [
    "from bisect import bisect\n",
    "def job_schdule(startTime, endTime, profit):\n",
    "    jobs = sorted(zip(startTime, endTime, profit), key = lambda v:v[1])\n",
    "    print(jobs)\n",
    "    # endtime, max profit\n",
    "    dp = [[0, 0]]\n",
    "\n",
    "    for s, e, p in jobs:\n",
    "        i = bisect(dp, [s+1]) - 1 \n",
    "        print(s,e,p)\n",
    "        print(f\"find the index of max profit in {i}\")\n",
    "        if dp[i][1] + p > dp[-1][1]:\n",
    "            dp.append([e, dp[i][1] + p])\n",
    "        \n",
    "        print(dp)\n",
    "        \n",
    "    return dp[-1][1]"
   ]
  },
  {
   "cell_type": "code",
   "execution_count": 41,
   "metadata": {},
   "outputs": [
    {
     "output_type": "stream",
     "name": "stdout",
     "text": [
      "[(1, 3, 50), (2, 4, 10), (3, 5, 40), (3, 6, 70)]\n1 3 50\nfind the index of max profit in 0\n[[0, 0], [3, 50]]\n2 4 10\nfind the index of max profit in 0\n[[0, 0], [3, 50]]\n3 5 40\nfind the index of max profit in 1\n[[0, 0], [3, 50], [5, 90]]\n3 6 70\nfind the index of max profit in 1\n[[0, 0], [3, 50], [5, 90], [6, 120]]\n120\n"
     ]
    }
   ],
   "source": [
    "startTime = [1,2,3,3]\n",
    "endTime = [3,4,5,6]\n",
    "profit = [50,10,40,70]\n",
    "print(job_schdule(startTime, endTime, profit))"
   ]
  },
  {
   "cell_type": "code",
   "execution_count": null,
   "metadata": {},
   "outputs": [],
   "source": []
  }
 ]
}